{
 "cells": [
  {
   "cell_type": "code",
   "execution_count": 2,
   "metadata": {},
   "outputs": [
    {
     "name": "stderr",
     "output_type": "stream",
     "text": [
      "c:\\Users\\Cozmic\\AppData\\Local\\Programs\\Python\\Python311\\Lib\\site-packages\\tqdm\\auto.py:21: TqdmWarning: IProgress not found. Please update jupyter and ipywidgets. See https://ipywidgets.readthedocs.io/en/stable/user_install.html\n",
      "  from .autonotebook import tqdm as notebook_tqdm\n"
     ]
    }
   ],
   "source": [
    "import requests , random\n",
    "from bs4 import BeautifulSoup\n",
    "from transformers import pipeline"
   ]
  },
  {
   "cell_type": "code",
   "execution_count": 10,
   "metadata": {},
   "outputs": [
    {
     "name": "stdout",
     "output_type": "stream",
     "text": [
      "Raw Paragraph : The solar wind is continuously flowing from the Sun. It is made up of ionized plasma and particles that escape from the Sun’s corona. In this outer atmosphere, temperatures are extremely high, causing plasma to expand so much that it breaks free from solar gravity and is released into space. The solar wind travels faster than the speed of sound. During events like solar flares and coronal mass ejections, when larger than normal amounts of solar energy are released from the Sun, the speed of the solar wind increases, reaching speeds of over one million miles per hour. The farther it travels from the Sun, the thinner the solar wind becomes, and though it still travels at very high speeds, it begins to slow down.  The solar wind expands like a balloon around the Sun, forming what is known as the heliosphere. The Voyager 2 spacecraft now travels outside of the heliopause, where the Sun has no influence. Voyager 2 has helped us to better understand what happens to solar wind at the edges of our solar system.When the solar wind leaves the corona, it carries with it part of the Sun’s magnetic field. This magnetic field within the solar wind interacts with planets as it flows past them. Earth’s magnetosphere acts as a shield, deflecting the solar wind and causing most of the particles carried within it to flow around us. This interaction with the solar wind causes Earth’s magnetosphere to compress at some points and stretch at others. Charged solar wind particles that enter Earth’s atmosphere near the poles react with gases within our atmosphere to create auroras, which are beautiful displays of light in the sky. Astronauts living in the International Space Station and satellites that orbit the Earth are constantly bombarded with solar wind particles. When there are solar storms that increase the energy in the solar wind, astronauts must take precautions to shield themselves from harmful radiation. Sometimes satellites are damaged or even destroyed by these solar storms. This material is based upon work supported by the National Center for Atmospheric Research, a major facility sponsored by the National Science Foundation and managed by the University Corporation for Atmospheric Research. Any opinions, findings and conclusions or recommendations expressed in this material do not necessarily reflect the views of the National Science Foundation.Different regions on the Sun produce solar wind of different speeds and densities.  Coronal holes produce solar wind of high speed, ranging from 500 to 800 kilometers per second.  The north and south poles of the Sun have large, persistent coronal holes, so high latitudes are filled with fast solar wind.  In the equatorial plane, where the Earth and the other planets orbit, the most common state of the solar wind is the slow speed wind, with speeds of about 400 kilometers per second. This portion of the solar wind forms the equatorial current sheet.  During quiet periods, the current sheet can be nearly flat. As solar activity increases, the solar surface fills with active regions, coronal holes, and other complex structures, which modify the solar wind and current sheet. Because the Sun rotates every 27 days, the solar wind becomes a complex spiral of high and low speeds and high and low densities that looks like the skirt of a twirling ballerina (see figure). When high speed solar overtakes slow speed wind, it creates something known as a corotating interaction region. These interaction regions consist of solar wind with very high densities and strong magnetic fieldsAbove the current sheet, the higher speed solar wind typically has a dominant magnetic polarity in one direction and below the current sheet, the polarity is in the opposite direction.  As the Earth moves through this evolving ballerina skirt, it is sometimes within the heliospheric current sheet, sometimes above it and sometime below it. When the magnetic field of the solar wind switches polarity, it is a strong indication that Earth has crossed the current sheet. The location of the Earth with respect to the current sheet is important because space weather impacts are highly dependent on the solar wind speed, the solar wind density, and the direction of the magnetic field embedded in the solar wind.    Each of the elements mentioned above play a role in space weather. High speed winds bring geomagnetic storms while slow speed winds bring calm space weather. Corotating interaction regions and to a lesser extent, current sheet crossings, can also cause geomagnetic disturbances. Thus specifying and forecasting the solar wind is critical to developing forecasts of space weather and its impacts at Earth.The SolarWinds Platform is the industry’s only unified monitoring, observability, and service management platform. It’s the foundation for a new generation of SolarWinds observability solutions and provides the architecture on how we solve observability challenges for our customers.Network management tools, from configuration and traffic intelligence to performance monitoring and topology mapping, to readily see, understand, and resolve issues. An integrated, multi-vendor approach that’s easy to use, extend, and scale to keep distributed networks optimized.Comprehensive server and application management that’s simple, interoperable, and customizable from systems, IPs, and VMs to containers and services. Optimize resource usage and reduce MTTR with powerful monitoring, discovery, dependency mapping, alerting, reporting, and capacity planning.Monitor, analyze, diagnose, and optimize database performance and data ops that drive your business-critical applications. Unify on-premises and cloud database visibility, control, and management with streamlined monitoring, mapping, data lineage, data integration, and tuning across multiple vendors.Modernize your service desk with intelligent and automated ticketing, asset, configuration, and service-level agreement (SLA) management; a knowledge base; and a self-service portal with secure remote assistance. SolarWinds offers an easy-to-use IT service management (ITSM) platform designed to meet your service management needs to maximize productivity while adhering to ITIL best practices.Ensure user experience with unified performance monitoring, tracing, and metrics across applications, clouds, and SaaS. Robust solutions offering rich visualization, synthetic and real user monitoring (RUM), and extensive log management, alerting, and analytics to expedite troubleshooting and reporting.Reduce attack surface, manage access, and improve compliance with IT security solutions designed for accelerated time-to-value ranging from security event management, access rights management, identity monitoring, server configuration monitoring and patching, and secure gateway and file transfer.\n",
      "Summary : Voyager 2 has helped us to better understand what happens to solar wind at the edges of our solar system. The solar wind is continuously flowing from the Sun. Charged solar wind particles that enter Earth’s atmosphere near the poles react with gases within our atmosphere to create auroras.\n",
      "Reference 1:https://scied.ucar.edu/learning-zone/sun-space-weather/solar-wind\n",
      "Reference 2:https://www.swpc.noaa.gov/phenomena/solar-wind\n",
      "Reference 3:https://www.sciencedirect.com/topics/earth-and-planetary-sciences/solar-wind\n",
      "Reference 4:https://www.solarwinds.com/\n"
     ]
    }
   ],
   "source": [
    "links = []\n",
    "paragraph = \"\"\n",
    "search_query = input(\"Question : \")\n",
    "# Set the URL for Google search results\n",
    "url = f\"https://www.google.com/search?q={search_query.replace(' ', '+')}\"\n",
    "headers = {\n",
    "    'User-Agent': 'Mozilla/5.0 (Windows NT 10.0; Win64; x64) AppleWebKit/537.36 (KHTML, like Gecko) Chrome/58.0.3029.110 Safari/537.36'\n",
    "}\n",
    "response = requests.get(url,headers=headers)\n",
    "# Check if the request was successful (status code 200 indicates success)\n",
    "if response.status_code == 200:\n",
    "    # Parse the HTML content of the page\n",
    "    soup = BeautifulSoup(response.text, 'html.parser')\n",
    "    search_results = soup.find_all('div', class_='Gx5Zad fP1Qef xpd EtOod pkphOe')\n",
    "    index = random.randint(0,6)\n",
    "    for result in search_results[index:index+4]:\n",
    "        link = result.find('a')['href']\n",
    "        l = link.split('/url?esrc=s&q=&rct=j&sa=U&url=')[1].split('&ved=')[0]\n",
    "        links.append(l)\n",
    "else:\n",
    "    print(f\"Failed to retrieve search results. Status code: {response.status_code}\")\n",
    "\n",
    "for link in links:\n",
    "    response = requests.get(link,headers=headers)\n",
    "    parsed_text = BeautifulSoup(response.text,'html.parser').find_all('p')\n",
    "    for text in parsed_text:\n",
    "        if text.get_text() != None and len(text.get_text()) > 250:\n",
    "            whitespace = text.get_text().count(' ')\n",
    "            if (whitespace/len(text.get_text()))*100 < 20:\n",
    "                paragraph = paragraph + text.get_text().replace('\\n', ' ')\n",
    "\n",
    "print(f\"Raw Paragraph : {paragraph}\")\n",
    "if len(paragraph) > 0:\n",
    "    summarizer = pipeline(\"summarization\" , model=\"facebook/bart-large-cnn\",)\n",
    "    summary = summarizer(paragraph, max_length=500, min_length=40,truncation=True)[0]['summary_text']\n",
    "    print(f\"Summary : {summary}\")\n",
    "else:\n",
    "    print(\"Could not find a suitable paragraph to summarise. try again\")\n",
    "\n",
    "# Print the references\n",
    "for i,link in enumerate(links,1):\n",
    "    print(f\"Reference {i}:{link}\")\n",
    "    "
   ]
  }
 ],
 "metadata": {
  "kernelspec": {
   "display_name": "Python 3",
   "language": "python",
   "name": "python3"
  },
  "language_info": {
   "codemirror_mode": {
    "name": "ipython",
    "version": 3
   },
   "file_extension": ".py",
   "mimetype": "text/x-python",
   "name": "python",
   "nbconvert_exporter": "python",
   "pygments_lexer": "ipython3",
   "version": "3.11.2"
  }
 },
 "nbformat": 4,
 "nbformat_minor": 2
}
