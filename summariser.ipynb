{
 "cells": [
  {
   "cell_type": "code",
   "execution_count": 1,
   "metadata": {},
   "outputs": [
    {
     "name": "stderr",
     "output_type": "stream",
     "text": [
      "c:\\Users\\Cozmic\\AppData\\Local\\Programs\\Python\\Python311\\Lib\\site-packages\\tqdm\\auto.py:21: TqdmWarning: IProgress not found. Please update jupyter and ipywidgets. See https://ipywidgets.readthedocs.io/en/stable/user_install.html\n",
      "  from .autonotebook import tqdm as notebook_tqdm\n",
      "All PyTorch model weights were used when initializing TFT5ForConditionalGeneration.\n",
      "\n",
      "All the weights of TFT5ForConditionalGeneration were initialized from the PyTorch model.\n",
      "If your task is similar to the task the model of the checkpoint was trained on, you can already use TFT5ForConditionalGeneration for predictions without further training.\n",
      "You are using the default legacy behaviour of the <class 'transformers.models.t5.tokenization_t5.T5Tokenizer'>. This is expected, and simply means that the `legacy` (previous) behavior will be used so nothing changes for you. If you want to use the new behaviour, set `legacy=False`. This should only be set if you understand what it means, and thouroughly read the reason why this was added as explained in https://github.com/huggingface/transformers/pull/24565\n",
      "Special tokens have been added in the vocabulary, make sure the associated word embeddings are fine-tuned or trained.\n"
     ]
    }
   ],
   "source": [
    "import requests\n",
    "from bs4 import BeautifulSoup\n",
    "from transformers import TFT5ForConditionalGeneration, T5Tokenizer\n",
    "\n",
    "# model init and tokenizer \n",
    "model_name = \"t5-small\"\n",
    "model = TFT5ForConditionalGeneration.from_pretrained(model_name)\n",
    "tokenizer = T5Tokenizer.from_pretrained(model_name)\n"
   ]
  },
  {
   "cell_type": "code",
   "execution_count": 4,
   "metadata": {},
   "outputs": [
    {
     "name": "stdout",
     "output_type": "stream",
     "text": [
      "Summary : tokenization is a fundamental step in natural language processing and text analysis tasks.Tokenization is a fundamental step in both traditional and Advanced Deep Learning-based NLP methods. It’s a fundamental step in both traditional and Advanced Deep Learning-based NLP methods.\n",
      "Reference 1:https://vaclavkosar.com/ml/Tokenization-in-Machine-Learning-Explained\n",
      "Reference 2:https://www.analyticsvidhya.com/blog/2020/05/what-is-tokenization-nlp/\n"
     ]
    }
   ],
   "source": [
    "links = []\n",
    "paragraph = \"\"\n",
    "search_query = input(\"Question : \")\n",
    "# Set the URL for Google search results\n",
    "url = f\"https://www.google.com/search?q={search_query.replace(' ', '+')}\"\n",
    "# Send an HTTP GET request to the Google search page\n",
    "response = requests.get(url)\n",
    "# Check if the request was successful (status code 200 indicates success)\n",
    "if response.status_code == 200:\n",
    "    # Parse the HTML content of the page\n",
    "    soup = BeautifulSoup(response.text, 'html.parser')\n",
    "    search_results = soup.find_all('div', class_='Gx5Zad fP1Qef xpd EtOod pkphOe')\n",
    "    for result in search_results[:2]:\n",
    "        link = result.find('a')['href']\n",
    "        l = link.split('/url?q=')[1].split('&sa=U&')[0]\n",
    "        links.append(l)\n",
    "else:\n",
    "    print(f\"Failed to retrieve search results. Status code: {response.status_code}\")\n",
    "\n",
    "for link in links:\n",
    "    response = requests.get(link)\n",
    "    parsed_text = BeautifulSoup(response.text,'html.parser').find_all('p')\n",
    "    for text in parsed_text:\n",
    "        paragraph = paragraph + text.get_text().replace('\\n', ' ')\n",
    "\n",
    "# Tokenize the input text\n",
    "inputs = tokenizer.encode(paragraph, return_tensors=\"pt\", max_length=1024, truncation=True)\n",
    "# Generate the summary\n",
    "summary_ids = model.generate(inputs, max_length=200, min_length=40, length_penalty=2.0, num_beams=4, early_stopping=True)\n",
    "# Decode the summary\n",
    "summary = tokenizer.decode(summary_ids[0], skip_special_tokens=True)\n",
    "print(f\"Summary : {summary}\")\n",
    "\n",
    "# Print the references\n",
    "for i,link in enumerate(links,1):\n",
    "    print(f\"Reference {i}:{link}\")\n",
    "    "
   ]
  }
 ],
 "metadata": {
  "kernelspec": {
   "display_name": "Python 3",
   "language": "python",
   "name": "python3"
  },
  "language_info": {
   "codemirror_mode": {
    "name": "ipython",
    "version": 3
   },
   "file_extension": ".py",
   "mimetype": "text/x-python",
   "name": "python",
   "nbconvert_exporter": "python",
   "pygments_lexer": "ipython3",
   "version": "3.11.2"
  }
 },
 "nbformat": 4,
 "nbformat_minor": 2
}
